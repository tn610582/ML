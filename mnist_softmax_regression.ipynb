{
  "nbformat": 4,
  "nbformat_minor": 0,
  "metadata": {
    "colab": {
      "name": "mnist_softmax_regression.ipynb",
      "version": "0.3.2",
      "provenance": [],
      "collapsed_sections": []
    },
    "kernelspec": {
      "name": "python3",
      "display_name": "Python 3"
    }
  },
  "cells": [
    {
      "metadata": {
        "id": "SE1icqpk118b",
        "colab_type": "text"
      },
      "cell_type": "markdown",
      "source": [
        "The MNIST dataset consistes of labeled handwritten digite from 0-9. \n",
        "\n",
        "Size of the image is 28*28"
      ]
    },
    {
      "metadata": {
        "id": "93m7xlVz0IeB",
        "colab_type": "code",
        "outputId": "e3500c42-cf8b-4420-e4fa-0396e53dd46f",
        "colab": {
          "base_uri": "https://localhost:8080/",
          "height": 85
        }
      },
      "cell_type": "code",
      "source": [
        "import tensorflow as tf\n",
        "from tensorflow.examples.tutorials.mnist import input_data\n",
        "import matplotlib.pyplot as plt\n",
        "import scipy.misc\n",
        "from PIL import Image\n",
        "import numpy as np\n",
        "\n",
        "#print(\"tensoorflow version:\",tf.VERSION)\n",
        "#load data\n",
        "mnist = input_data.read_data_sets(\"MNIST_data/\", one_hot=True)"
      ],
      "execution_count": 2,
      "outputs": [
        {
          "output_type": "stream",
          "text": [
            "Extracting MNIST_data/train-images-idx3-ubyte.gz\n",
            "Extracting MNIST_data/train-labels-idx1-ubyte.gz\n",
            "Extracting MNIST_data/t10k-images-idx3-ubyte.gz\n",
            "Extracting MNIST_data/t10k-labels-idx1-ubyte.gz\n"
          ],
          "name": "stdout"
        }
      ]
    },
    {
      "metadata": {
        "id": "4f-OqvDu-cy9",
        "colab_type": "code",
        "outputId": "ba485cbf-cce4-4b2b-a9e1-b0e836157538",
        "colab": {
          "base_uri": "https://localhost:8080/",
          "height": 286
        }
      },
      "cell_type": "code",
      "source": [
        "#Example of MNIST dataset\n",
        "image = mnist.train.images[0,:]\n",
        "image.resize(28,28)\n",
        "plt.imshow(image)"
      ],
      "execution_count": 3,
      "outputs": [
        {
          "output_type": "execute_result",
          "data": {
            "text/plain": [
              "<matplotlib.image.AxesImage at 0x7fe894351f98>"
            ]
          },
          "metadata": {
            "tags": []
          },
          "execution_count": 3
        },
        {
          "output_type": "display_data",
          "data": {
            "image/png": "[encoded data removed]",
            "text/plain": [
              "<Figure size 432x288 with 1 Axes>"
            ]
          },
          "metadata": {
            "tags": []
          }
        }
      ]
    },
    {
      "metadata": {
        "id": "8Nt2JAWCIXRK",
        "colab_type": "code",
        "colab": {}
      },
      "cell_type": "code",
      "source": [
        "#Save image data to file\n",
        "\n",
        "#save the first 10 image as an example\n",
        "for i in range(10):\n",
        "  image_data = mnist.train.images[i,:]\n",
        "  image_data = image_data.reshape(28,28)\n",
        "  filename = 'mnist_train_%d.tiff'%i\n",
        "  #older version\n",
        "  #scipy.misc.toimage(image_data, cmin=0.0, cmax=1.0).save(filename)\n",
        "  #works on .tiff files\n",
        "  Image.fromarray(image_data).save(filename)"
      ],
      "execution_count": 0,
      "outputs": []
    },
    {
      "metadata": {
        "id": "RJaPHreON3k5",
        "colab_type": "code",
        "outputId": "1d32909b-db17-44f0-eb7f-51a296fb2586",
        "colab": {
          "base_uri": "https://localhost:8080/",
          "height": 34
        }
      },
      "cell_type": "code",
      "source": [
        "#One-hot representation of labels\n",
        "print(mnist.train.labels[0,:])"
      ],
      "execution_count": 5,
      "outputs": [
        {
          "output_type": "stream",
          "text": [
            "[0. 0. 0. 0. 0. 0. 0. 1. 0. 0.]\n"
          ],
          "name": "stdout"
        }
      ]
    },
    {
      "metadata": {
        "id": "c8oJe3YL5juA",
        "colab_type": "text"
      },
      "cell_type": "markdown",
      "source": [
        "Sofxmax Regression\n",
        "\n",
        "It is for multi-class classification\n",
        "\n",
        "Similar to logistic regression, logistic regression only classify two classes. \n",
        "\n",
        "In mnist dataset we have 10 classes(0-9), the goal is to calculate the probability of the input in each class and the result is the class with the maxmum probability. \n",
        "\n",
        "\n"
      ]
    },
    {
      "metadata": {
        "id": "SeBgR-Vw5qYQ",
        "colab_type": "code",
        "outputId": "005ec57c-2ff5-4a02-9efc-583c47b4ab94",
        "colab": {
          "base_uri": "https://localhost:8080/",
          "height": 88
        }
      },
      "cell_type": "code",
      "source": [
        "#input image \n",
        "x = tf.placeholder(tf.float32, [None, 784])\n",
        "\n",
        "# weights: size 10D array of 784\n",
        "W = tf.Variable(tf.zeros([784, 10]))\n",
        "\n",
        "# bias\n",
        "b = tf.Variable(tf.zeros([10]))\n",
        "# output y\n",
        "y = tf.nn.softmax(tf.add(tf.matmul(x, W), b))\n",
        "# ground truth of output prediction\n",
        "y_ = tf.placeholder(tf.float32, [None, 10])\n",
        "\n",
        "#loss, cross entropy\n",
        "cross_entropy = tf.reduce_mean(-tf.reduce_sum(y_*tf.log(y)))\n",
        "\n",
        "#optimization algorithm: gradient decent 0.01 learning rate\n",
        "train_step = tf.train.GradientDescentOptimizer(0.01).minimize(cross_entropy)"
      ],
      "execution_count": 6,
      "outputs": [
        {
          "output_type": "stream",
          "text": [
            "WARNING:tensorflow:From /usr/local/lib/python3.6/dist-packages/tensorflow/python/framework/op_def_library.py:263: colocate_with (from tensorflow.python.framework.ops) is deprecated and will be removed in a future version.\n",
            "Instructions for updating:\n",
            "Colocations handled automatically by placer.\n"
          ],
          "name": "stdout"
        }
      ]
    },
    {
      "metadata": {
        "id": "zMFgpWBcJycO",
        "colab_type": "code",
        "colab": {}
      },
      "cell_type": "code",
      "source": [
        "\n",
        "#create tf session\n",
        "sess = tf.InteractiveSession()\n",
        "#initialize variable\n",
        "tf.global_variables_initializer().run()\n",
        "\n",
        "for _ in range(1000):\n",
        "  batch_xs, batch_ys = mnist.train.next_batch(100)\n",
        "  sess.run(train_step, feed_dict={x:batch_xs, y_:batch_ys})"
      ],
      "execution_count": 0,
      "outputs": []
    },
    {
      "metadata": {
        "id": "beTefZqAKlT3",
        "colab_type": "code",
        "colab": {
          "base_uri": "https://localhost:8080/",
          "height": 34
        },
        "outputId": "a89bc153-6b13-4119-99d7-a4a22efb0bbf"
      },
      "cell_type": "code",
      "source": [
        "#calculate model accuracy\n",
        "correct_prediction = tf.equal(tf.argmax(y,1), tf.argmax(y_,1))\n",
        "accuracy = tf.reduce_mean(tf.cast(correct_prediction, tf.float32))\n",
        "print(\"Accuracy of the softmax regression model:\",sess.run(accuracy, feed_dict={x:mnist.test.images,y_:mnist.test.labels}))"
      ],
      "execution_count": 8,
      "outputs": [
        {
          "output_type": "stream",
          "text": [
            "Accuracy of the softmax regression model: 0.9161\n"
          ],
          "name": "stdout"
        }
      ]
    },
    {
      "metadata": {
        "id": "-qUKBmdiWY0h",
        "colab_type": "code",
        "colab": {
          "base_uri": "https://localhost:8080/",
          "height": 51
        },
        "outputId": "43381506-8300-4939-c735-c0bb3488e28f"
      },
      "cell_type": "code",
      "source": [
        "#test the model using one example of the test data set\n",
        "x_test = mnist.test.images[0,:]\n",
        "x_test = np.reshape(x_test,(1,784))\n",
        "y_test = mnist.test.labels[0,:]\n",
        "#print(np.shape(x_val))\n",
        "print(\"predicted\",sess.run(tf.argmax(y,1), feed_dict={x:x_test}), \"\\nactual:\", np.argmax(y_test.reshape(1,10),1))"
      ],
      "execution_count": 10,
      "outputs": [
        {
          "output_type": "stream",
          "text": [
            "predicted [7] \n",
            "actual: [7]\n"
          ],
          "name": "stdout"
        }
      ]
    },
    {
      "metadata": {
        "id": "2RUDiCFAx0Jr",
        "colab_type": "code",
        "colab": {}
      },
      "cell_type": "code",
      "source": [
        ""
      ],
      "execution_count": 0,
      "outputs": []
    }
  ]
}